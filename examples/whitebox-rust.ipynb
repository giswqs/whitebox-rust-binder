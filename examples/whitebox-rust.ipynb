{
 "cells": [
  {
   "cell_type": "code",
   "execution_count": null,
   "metadata": {},
   "outputs": [],
   "source": [
    "import cffi_magic"
   ]
  },
  {
   "cell_type": "code",
   "execution_count": null,
   "metadata": {
    "scrolled": true
   },
   "outputs": [],
   "source": [
    "%%rust int rfib(int);\n",
    "\n",
    "#[no_mangle]\n",
    "pub extern fn rfib(n: i32) -> i32 {\n",
    "    match n {\n",
    "        0 => 1,\n",
    "        1 => 1,\n",
    "        2 => 1,\n",
    "        _ => rfib(n-1)+rfib(n-2)\n",
    "    }\n",
    "}"
   ]
  },
  {
   "cell_type": "code",
   "execution_count": 18,
   "metadata": {},
   "outputs": [],
   "source": [
    "!echo 'export PATH=$PATH:$HOME/.cargo/bin' >> ~/.bashrc"
   ]
  },
  {
   "cell_type": "code",
   "execution_count": null,
   "metadata": {},
   "outputs": [],
   "source": []
  },
  {
   "cell_type": "code",
   "execution_count": 19,
   "metadata": {
    "scrolled": false
   },
   "outputs": [
    {
     "name": "stdout",
     "output_type": "stream",
     "text": [
      "# ~/.bashrc: executed by bash(1) for non-login shells.\r\n",
      "# see /usr/share/doc/bash/examples/startup-files (in the package bash-doc)\r\n",
      "# for examples\r\n",
      "\r\n",
      "# If not running interactively, don't do anything\r\n",
      "case $- in\r\n",
      "    *i*) ;;\r\n",
      "      *) return;;\r\n",
      "esac\r\n",
      "\r\n",
      "# don't put duplicate lines or lines starting with space in the history.\r\n",
      "# See bash(1) for more options\r\n",
      "HISTCONTROL=ignoreboth\r\n",
      "\r\n",
      "# append to the history file, don't overwrite it\r\n",
      "shopt -s histappend\r\n",
      "\r\n",
      "# for setting history length see HISTSIZE and HISTFILESIZE in bash(1)\r\n",
      "HISTSIZE=1000\r\n",
      "HISTFILESIZE=2000\r\n",
      "\r\n",
      "# check the window size after each command and, if necessary,\r\n",
      "# update the values of LINES and COLUMNS.\r\n",
      "shopt -s checkwinsize\r\n",
      "\r\n",
      "# If set, the pattern \"**\" used in a pathname expansion context will\r\n",
      "# match all files and zero or more directories and subdirectories.\r\n",
      "#shopt -s globstar\r\n",
      "\r\n",
      "# make less more friendly for non-text input files, see lesspipe(1)\r\n",
      "[ -x /usr/bin/lesspipe ] && eval \"$(SHELL=/bin/sh lesspipe)\"\r\n",
      "\r\n",
      "# set variable identifying the chroot you work in (used in the prompt below)\r\n",
      "if [ -z \"${debian_chroot:-}\" ] && [ -r /etc/debian_chroot ]; then\r\n",
      "    debian_chroot=$(cat /etc/debian_chroot)\r\n",
      "fi\r\n",
      "\r\n",
      "# set a fancy prompt (non-color, unless we know we \"want\" color)\r\n",
      "case \"$TERM\" in\r\n",
      "    xterm-color|*-256color) color_prompt=yes;;\r\n",
      "esac\r\n",
      "\r\n",
      "# uncomment for a colored prompt, if the terminal has the capability; turned\r\n",
      "# off by default to not distract the user: the focus in a terminal window\r\n",
      "# should be on the output of commands, not on the prompt\r\n",
      "#force_color_prompt=yes\r\n",
      "\r\n",
      "if [ -n \"$force_color_prompt\" ]; then\r\n",
      "    if [ -x /usr/bin/tput ] && tput setaf 1 >&/dev/null; then\r\n",
      "\t# We have color support; assume it's compliant with Ecma-48\r\n",
      "\t# (ISO/IEC-6429). (Lack of such support is extremely rare, and such\r\n",
      "\t# a case would tend to support setf rather than setaf.)\r\n",
      "\tcolor_prompt=yes\r\n",
      "    else\r\n",
      "\tcolor_prompt=\r\n",
      "    fi\r\n",
      "fi\r\n",
      "\r\n",
      "if [ \"$color_prompt\" = yes ]; then\r\n",
      "    PS1='${debian_chroot:+($debian_chroot)}\\[\\033[01;32m\\]\\u@\\h\\[\\033[00m\\]:\\[\\033[01;34m\\]\\w\\[\\033[00m\\]\\$ '\r\n",
      "else\r\n",
      "    PS1='${debian_chroot:+($debian_chroot)}\\u@\\h:\\w\\$ '\r\n",
      "fi\r\n",
      "unset color_prompt force_color_prompt\r\n",
      "\r\n",
      "# If this is an xterm set the title to user@host:dir\r\n",
      "case \"$TERM\" in\r\n",
      "xterm*|rxvt*)\r\n",
      "    PS1=\"\\[\\e]0;${debian_chroot:+($debian_chroot)}\\u@\\h: \\w\\a\\]$PS1\"\r\n",
      "    ;;\r\n",
      "*)\r\n",
      "    ;;\r\n",
      "esac\r\n",
      "\r\n",
      "# enable color support of ls and also add handy aliases\r\n",
      "if [ -x /usr/bin/dircolors ]; then\r\n",
      "    test -r ~/.dircolors && eval \"$(dircolors -b ~/.dircolors)\" || eval \"$(dircolors -b)\"\r\n",
      "    alias ls='ls --color=auto'\r\n",
      "    #alias dir='dir --color=auto'\r\n",
      "    #alias vdir='vdir --color=auto'\r\n",
      "\r\n",
      "    alias grep='grep --color=auto'\r\n",
      "    alias fgrep='fgrep --color=auto'\r\n",
      "    alias egrep='egrep --color=auto'\r\n",
      "fi\r\n",
      "\r\n",
      "# colored GCC warnings and errors\r\n",
      "#export GCC_COLORS='error=01;31:warning=01;35:note=01;36:caret=01;32:locus=01:quote=01'\r\n",
      "\r\n",
      "# some more ls aliases\r\n",
      "alias ll='ls -alF'\r\n",
      "alias la='ls -A'\r\n",
      "alias l='ls -CF'\r\n",
      "\r\n",
      "# Add an \"alert\" alias for long running commands.  Use like so:\r\n",
      "#   sleep 10; alert\r\n",
      "alias alert='notify-send --urgency=low -i \"$([ $? = 0 ] && echo terminal || echo error)\" \"$(history|tail -n1|sed -e '\\''s/^\\s*[0-9]\\+\\s*//;s/[;&|]\\s*alert$//'\\'')\"'\r\n",
      "\r\n",
      "# Alias definitions.\r\n",
      "# You may want to put all your additions into a separate file like\r\n",
      "# ~/.bash_aliases, instead of adding them here directly.\r\n",
      "# See /usr/share/doc/bash-doc/examples in the bash-doc package.\r\n",
      "\r\n",
      "if [ -f ~/.bash_aliases ]; then\r\n",
      "    . ~/.bash_aliases\r\n",
      "fi\r\n",
      "\r\n",
      "# enable programmable completion features (you don't need to enable\r\n",
      "# this, if it's already enabled in /etc/bash.bashrc and /etc/profile\r\n",
      "# sources /etc/bash.bashrc).\r\n",
      "if ! shopt -oq posix; then\r\n",
      "  if [ -f /usr/share/bash-completion/bash_completion ]; then\r\n",
      "    . /usr/share/bash-completion/bash_completion\r\n",
      "  elif [ -f /etc/bash_completion ]; then\r\n",
      "    . /etc/bash_completion\r\n",
      "  fi\r\n",
      "fi\r\n",
      "export PATH=$HOME/.cargo/bin:$PATH\r\n",
      "export PATH=$HOME/.cargo/bin/:$PATH\r\n",
      "export PATH=$PATH:$HOME/.cargo/bin\r\n"
     ]
    }
   ],
   "source": [
    "!cat ~/.bashrc"
   ]
  },
  {
   "cell_type": "code",
   "execution_count": 20,
   "metadata": {},
   "outputs": [
    {
     "name": "stdout",
     "output_type": "stream",
     "text": [
      "/srv/conda/bin:/home/jovyan/.local/bin:/srv/julia/bin:/usr/local/sbin:/usr/local/bin:/usr/sbin:/usr/bin:/sbin:/bin\r\n"
     ]
    }
   ],
   "source": [
    "!echo $PATH"
   ]
  },
  {
   "cell_type": "code",
   "execution_count": null,
   "metadata": {},
   "outputs": [],
   "source": []
  },
  {
   "cell_type": "code",
   "execution_count": null,
   "metadata": {},
   "outputs": [],
   "source": [
    "!git clone https://github.com/jblindsay/whitebox-tools.git"
   ]
  },
  {
   "cell_type": "code",
   "execution_count": null,
   "metadata": {},
   "outputs": [],
   "source": [
    "!cd whitebox-tools/"
   ]
  },
  {
   "cell_type": "code",
   "execution_count": null,
   "metadata": {},
   "outputs": [],
   "source": [
    "!cargo build --release"
   ]
  },
  {
   "cell_type": "code",
   "execution_count": null,
   "metadata": {},
   "outputs": [],
   "source": [
    "!.cargo/bin/cargo build --release"
   ]
  },
  {
   "cell_type": "code",
   "execution_count": null,
   "metadata": {},
   "outputs": [],
   "source": []
  },
  {
   "cell_type": "code",
   "execution_count": null,
   "metadata": {},
   "outputs": [],
   "source": []
  }
 ],
 "metadata": {
  "kernelspec": {
   "display_name": "Python 3",
   "language": "python",
   "name": "python3"
  },
  "language_info": {
   "codemirror_mode": {
    "name": "ipython",
    "version": 3
   },
   "file_extension": ".py",
   "mimetype": "text/x-python",
   "name": "python",
   "nbconvert_exporter": "python",
   "pygments_lexer": "ipython3",
   "version": "3.6.6"
  }
 },
 "nbformat": 4,
 "nbformat_minor": 2
}
